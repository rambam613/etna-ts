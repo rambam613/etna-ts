{
 "cells": [
  {
   "cell_type": "markdown",
   "id": "b9f22979",
   "metadata": {},
   "source": [
    "# Deep learning examples\n",
    "\n",
    "<a href=\"https://mybinder.org/v2/gh/tinkoff-ai/etna-ts/master?filepath=examples/NN_examples.ipynb\">\n",
    "    <img src=\"https://mybinder.org/badge_logo.svg\"  align='left'>\n",
    "</a>"
   ]
  },
  {
   "cell_type": "markdown",
   "id": "162e50a3",
   "metadata": {},
   "source": [
    "This notebooks contains examples with neural network models.\n",
    "\n",
    "**Table of Contents**\n",
    "\n",
    "* [Creating TSDataset](#chapter1)  \n",
    "* [Architecture](#chapter2)\n",
    "* [Testing models](#chapter3)\n",
    "    * [DeepAR](#section_3_1)\n",
    "    * [TFT](#section_3_2)\n",
    "    * [Simple Model](#section_3_3)"
   ]
  },
  {
   "cell_type": "code",
   "execution_count": 1,
   "id": "a1a1a571",
   "metadata": {},
   "outputs": [
    {
     "name": "stderr",
     "output_type": "stream",
     "text": [
      "<ipython-input-1-a317083753a5>:12: DeprecationWarning: TimeSeriesCrossValidation is deprecated in etna==1.2.0, will be deleted in etna==1.4.0. Use Pipeline.backtest method instead.\n",
      "  from etna.model_selection import TimeSeriesCrossValidation\n"
     ]
    }
   ],
   "source": [
    "import torch\n",
    "import random\n",
    "\n",
    "import pandas as pd\n",
    "import numpy as np\n",
    "\n",
    "from etna.datasets.tsdataset import TSDataset\n",
    "from etna.transforms import DateFlagsTransform\n",
    "from etna.transforms import LagTransform\n",
    "from etna.transforms import LinearTrendTransform\n",
    "from etna.metrics import SMAPE, MAPE, MAE\n",
    "from etna.model_selection import TimeSeriesCrossValidation\n",
    "from etna.analysis import plot_backtest\n",
    "from etna.models import SeasonalMovingAverageModel\n",
    "\n",
    "import warnings\n",
    "warnings.filterwarnings(\"ignore\")"
   ]
  },
  {
   "cell_type": "markdown",
   "id": "2d42f9d7",
   "metadata": {},
   "source": [
    "## 1. Creating TSDataset <a class=\"anchor\" id=\"chapter1\"></a>"
   ]
  },
  {
   "cell_type": "markdown",
   "id": "89c2032b",
   "metadata": {},
   "source": [
    "We are going to take transformed [Household Electric Power Consumption] dataset. Let's load and look at it."
   ]
  },
  {
   "cell_type": "code",
   "execution_count": 2,
   "id": "bfe220cb",
   "metadata": {},
   "outputs": [
    {
     "data": {
      "text/html": [
       "<div>\n",
       "<style scoped>\n",
       "    .dataframe tbody tr th:only-of-type {\n",
       "        vertical-align: middle;\n",
       "    }\n",
       "\n",
       "    .dataframe tbody tr th {\n",
       "        vertical-align: top;\n",
       "    }\n",
       "\n",
       "    .dataframe thead th {\n",
       "        text-align: right;\n",
       "    }\n",
       "</style>\n",
       "<table border=\"1\" class=\"dataframe\">\n",
       "  <thead>\n",
       "    <tr style=\"text-align: right;\">\n",
       "      <th></th>\n",
       "      <th>timestamp</th>\n",
       "      <th>segment</th>\n",
       "      <th>target</th>\n",
       "    </tr>\n",
       "  </thead>\n",
       "  <tbody>\n",
       "    <tr>\n",
       "      <th>0</th>\n",
       "      <td>2019-01-01</td>\n",
       "      <td>segment_a</td>\n",
       "      <td>170</td>\n",
       "    </tr>\n",
       "    <tr>\n",
       "      <th>1</th>\n",
       "      <td>2019-01-02</td>\n",
       "      <td>segment_a</td>\n",
       "      <td>243</td>\n",
       "    </tr>\n",
       "    <tr>\n",
       "      <th>2</th>\n",
       "      <td>2019-01-03</td>\n",
       "      <td>segment_a</td>\n",
       "      <td>267</td>\n",
       "    </tr>\n",
       "    <tr>\n",
       "      <th>3</th>\n",
       "      <td>2019-01-04</td>\n",
       "      <td>segment_a</td>\n",
       "      <td>287</td>\n",
       "    </tr>\n",
       "    <tr>\n",
       "      <th>4</th>\n",
       "      <td>2019-01-05</td>\n",
       "      <td>segment_a</td>\n",
       "      <td>279</td>\n",
       "    </tr>\n",
       "  </tbody>\n",
       "</table>\n",
       "</div>"
      ],
      "text/plain": [
       "    timestamp    segment  target\n",
       "0  2019-01-01  segment_a     170\n",
       "1  2019-01-02  segment_a     243\n",
       "2  2019-01-03  segment_a     267\n",
       "3  2019-01-04  segment_a     287\n",
       "4  2019-01-05  segment_a     279"
      ]
     },
     "execution_count": 2,
     "metadata": {},
     "output_type": "execute_result"
    }
   ],
   "source": [
    "original_df = pd.read_csv(\"data/example_dataset.csv\")\n",
    "original_df.head()"
   ]
  },
  {
   "cell_type": "markdown",
   "id": "470802a9",
   "metadata": {},
   "source": [
    "Our library works with the spacial data structure TSDataset. Let's create it as it was done in \"Get started\" notebook."
   ]
  },
  {
   "cell_type": "code",
   "execution_count": 3,
   "id": "c1f7de68",
   "metadata": {},
   "outputs": [
    {
     "data": {
      "text/html": [
       "<div>\n",
       "<style scoped>\n",
       "    .dataframe tbody tr th:only-of-type {\n",
       "        vertical-align: middle;\n",
       "    }\n",
       "\n",
       "    .dataframe tbody tr th {\n",
       "        vertical-align: top;\n",
       "    }\n",
       "\n",
       "    .dataframe thead tr th {\n",
       "        text-align: left;\n",
       "    }\n",
       "\n",
       "    .dataframe thead tr:last-of-type th {\n",
       "        text-align: right;\n",
       "    }\n",
       "</style>\n",
       "<table border=\"1\" class=\"dataframe\">\n",
       "  <thead>\n",
       "    <tr>\n",
       "      <th>segment</th>\n",
       "      <th>segment_a</th>\n",
       "      <th>segment_b</th>\n",
       "      <th>segment_c</th>\n",
       "      <th>segment_d</th>\n",
       "    </tr>\n",
       "    <tr>\n",
       "      <th>feature</th>\n",
       "      <th>target</th>\n",
       "      <th>target</th>\n",
       "      <th>target</th>\n",
       "      <th>target</th>\n",
       "    </tr>\n",
       "    <tr>\n",
       "      <th>timestamp</th>\n",
       "      <th></th>\n",
       "      <th></th>\n",
       "      <th></th>\n",
       "      <th></th>\n",
       "    </tr>\n",
       "  </thead>\n",
       "  <tbody>\n",
       "    <tr>\n",
       "      <th>2019-01-01</th>\n",
       "      <td>170</td>\n",
       "      <td>102</td>\n",
       "      <td>92</td>\n",
       "      <td>238</td>\n",
       "    </tr>\n",
       "    <tr>\n",
       "      <th>2019-01-02</th>\n",
       "      <td>243</td>\n",
       "      <td>123</td>\n",
       "      <td>107</td>\n",
       "      <td>358</td>\n",
       "    </tr>\n",
       "    <tr>\n",
       "      <th>2019-01-03</th>\n",
       "      <td>267</td>\n",
       "      <td>130</td>\n",
       "      <td>103</td>\n",
       "      <td>366</td>\n",
       "    </tr>\n",
       "    <tr>\n",
       "      <th>2019-01-04</th>\n",
       "      <td>287</td>\n",
       "      <td>138</td>\n",
       "      <td>103</td>\n",
       "      <td>385</td>\n",
       "    </tr>\n",
       "    <tr>\n",
       "      <th>2019-01-05</th>\n",
       "      <td>279</td>\n",
       "      <td>137</td>\n",
       "      <td>104</td>\n",
       "      <td>384</td>\n",
       "    </tr>\n",
       "  </tbody>\n",
       "</table>\n",
       "</div>"
      ],
      "text/plain": [
       "segment    segment_a segment_b segment_c segment_d\n",
       "feature       target    target    target    target\n",
       "timestamp                                         \n",
       "2019-01-01       170       102        92       238\n",
       "2019-01-02       243       123       107       358\n",
       "2019-01-03       267       130       103       366\n",
       "2019-01-04       287       138       103       385\n",
       "2019-01-05       279       137       104       384"
      ]
     },
     "execution_count": 3,
     "metadata": {},
     "output_type": "execute_result"
    }
   ],
   "source": [
    "df = TSDataset.to_dataset(original_df)\n",
    "ts = TSDataset(df, freq=\"D\")\n",
    "ts.head(5)"
   ]
  },
  {
   "cell_type": "markdown",
   "id": "75ef83d5",
   "metadata": {},
   "source": [
    "## 2. Architecture <a class=\"anchor\" id=\"chapter2\"></a>"
   ]
  },
  {
   "cell_type": "markdown",
   "id": "c587a0b0",
   "metadata": {},
   "source": [
    "Our library uses [PyTorch Forecasting](https://github.com/jdb78/pytorch-forecasting) to work with time series neural networks. To include it in our current architecture we use `PytorchForecastingTransform` class.\n",
    "\n",
    "Let's look at it closer."
   ]
  },
  {
   "cell_type": "code",
   "execution_count": 4,
   "id": "f3ae2de0",
   "metadata": {},
   "outputs": [],
   "source": [
    "from etna.transforms import PytorchForecastingTransform"
   ]
  },
  {
   "cell_type": "code",
   "execution_count": 5,
   "id": "af6a6035",
   "metadata": {},
   "outputs": [],
   "source": [
    "?PytorchForecastingTransform"
   ]
  },
  {
   "cell_type": "markdown",
   "id": "4c0a76ab",
   "metadata": {},
   "source": [
    "```python\n",
    "\"\"\"\n",
    "Init signature:\n",
    "PytorchForecastingTransform(\n",
    "    max_encoder_length: int = 30,\n",
    "    min_encoder_length: int = None,\n",
    "    min_prediction_idx: int = None,\n",
    "    min_prediction_length: int = None,\n",
    "    max_prediction_length: int = 1,\n",
    "    static_categoricals: List[str] = [],\n",
    "    static_reals: List[str] = [],\n",
    "    time_varying_known_categoricals: List[str] = [],\n",
    "    time_varying_known_reals: List[str] = [],\n",
    "    time_varying_unknown_categoricals: List[str] = [],\n",
    "    time_varying_unknown_reals: List[str] = [],\n",
    "    variable_groups: Dict[str, List[int]] = {},\n",
    "    dropout_categoricals: List[str] = [],\n",
    "    constant_fill_strategy: Dict[str, Union[str, float, int, bool]] = {},\n",
    "    allow_missings: bool = True,\n",
    "    lags: Dict[str, List[int]] = {},\n",
    "    add_relative_time_idx: bool = True,\n",
    "    add_target_scales: bool = True,\n",
    "    add_encoder_length: Union[bool, str] = True,\n",
    "    target_normalizer: Union[pytorch_forecasting.data.encoders.TorchNormalizer, pytorch_forecasting.data.encoders.NaNLabelEncoder, pytorch_forecasting.data.encoders.EncoderNormalizer, str, List[Union[pytorch_forecasting.data.encoders.TorchNormalizer, pytorch_forecasting.data.encoders.NaNLabelEncoder, pytorch_forecasting.data.encoders.EncoderNormalizer]], Tuple[Union[pytorch_forecasting.data.encoders.TorchNormalizer, pytorch_forecasting.data.encoders.NaNLabelEncoder, pytorch_forecasting.data.encoders.EncoderNormalizer]]] = 'auto',\n",
    "    categorical_encoders: Dict[str, pytorch_forecasting.data.encoders.NaNLabelEncoder] = None,\n",
    "    scalers: Dict[str, Union[sklearn.preprocessing._data.StandardScaler, sklearn.preprocessing._data.RobustScaler, pytorch_forecasting.data.encoders.TorchNormalizer, pytorch_forecasting.data.encoders.EncoderNormalizer]] = {},\n",
    ")\n",
    "Docstring:      Transform for models from PytorchForecasting library.\n",
    "Init docstring:\n",
    "Parameters for TimeSeriesDataSet object.\n",
    "\n",
    "Reference\n",
    "---------\n",
    "https://github.com/jdb78/pytorch-forecasting/blob/v0.8.5/pytorch_forecasting/data/timeseries.py#L117\n",
    "\"\"\"\n",
    "```"
   ]
  },
  {
   "cell_type": "markdown",
   "id": "27ecda43",
   "metadata": {},
   "source": [
    "We can see a pretty scary signature, but don't panic, we will look at the most important parameters. \n",
    "\n",
    "* `time_varying_known_reals` &mdash; known real values that change across the time (real regressors), now it it necessary to add \"time_idx\" variable to the list;\n",
    "* `time_varying_unknown_reals` &mdash; our real value target, set it to `[\"target\"]`;\n",
    "* `max_prediction_length` &mdash; our horizon for forecasting;\n",
    "* `max_encoder_length` &mdash; length of past context to use;\n",
    "* `static_categoricals` &mdash; static categorical values, for example, if we use multiple segments it can be some its characteristics including identifier: \"segment\";\n",
    "* `time_varying_known_categoricals` &mdash; known categorical values that change across the time (categorical regressors);\n",
    "* `target_normalizer` &mdash; class for normalization targets across different segments."
   ]
  },
  {
   "cell_type": "markdown",
   "id": "fadba04d",
   "metadata": {},
   "source": [
    "Our library currently supports these models:\n",
    "* [DeepAR](https://arxiv.org/abs/1704.04110),\n",
    "* [TFT](https://arxiv.org/abs/1912.09363)."
   ]
  },
  {
   "cell_type": "markdown",
   "id": "c7386070",
   "metadata": {},
   "source": [
    "## 3. Testing models <a class=\"anchor\" id=\"chapter3\"></a>"
   ]
  },
  {
   "cell_type": "markdown",
   "id": "05724e0f",
   "metadata": {},
   "source": [
    "In this section we will test our models on example."
   ]
  },
  {
   "cell_type": "markdown",
   "id": "76ab2183",
   "metadata": {},
   "source": [
    "### 3.1 DeepAR <a class=\"anchor\" id=\"section_3_1\"></a>"
   ]
  },
  {
   "cell_type": "markdown",
   "id": "c9b2e565",
   "metadata": {},
   "source": [
    "Before training let's fix seeds for reproducibility."
   ]
  },
  {
   "cell_type": "code",
   "execution_count": 6,
   "id": "ecdac443",
   "metadata": {},
   "outputs": [],
   "source": [
    "torch.manual_seed(42)\n",
    "random.seed(42)\n",
    "np.random.seed(42)"
   ]
  },
  {
   "cell_type": "markdown",
   "id": "47aec20a",
   "metadata": {},
   "source": [
    "Creating transforms for DeepAR."
   ]
  },
  {
   "cell_type": "code",
   "execution_count": 7,
   "id": "8ba0459d",
   "metadata": {},
   "outputs": [],
   "source": [
    "from pytorch_forecasting.data import GroupNormalizer\n",
    "\n",
    "HORIZON = 7\n",
    "\n",
    "transform_date = DateFlagsTransform(day_number_in_week=True, day_number_in_month=False, out_column=\"regressor_dateflag\")\n",
    "num_lags = 10\n",
    "transform_lag = LagTransform(in_column=\"target\", lags=[HORIZON+i for i in range(num_lags)], out_column=\"regressor_target_lag\")\n",
    "lag_columns = [f\"regressor_target_lag_{HORIZON+i}\" for i in range(num_lags)]\n",
    "\n",
    "transform_deepar = PytorchForecastingTransform(\n",
    "    max_encoder_length=HORIZON,\n",
    "    max_prediction_length=HORIZON,\n",
    "    time_varying_known_reals=[\"time_idx\"]+lag_columns,\n",
    "    time_varying_unknown_reals=[\"target\"],\n",
    "    time_varying_known_categoricals=[\"regressor_dateflag_day_number_in_week\"],\n",
    "    target_normalizer=GroupNormalizer(groups=[\"segment\"]),\n",
    ")"
   ]
  },
  {
   "cell_type": "markdown",
   "id": "3374d004",
   "metadata": {},
   "source": [
    "Now we are going to start backtest."
   ]
  },
  {
   "cell_type": "code",
   "execution_count": 8,
   "id": "8155fe9a",
   "metadata": {},
   "outputs": [],
   "source": [
    "from etna.models.nn import DeepARModel\n",
    "\n",
    "\n",
    "model_deepar = DeepARModel(max_epochs=150, learning_rate=[0.01], gpus=0, batch_size=64)\n",
    "metrics = [SMAPE(), MAPE(), MAE()]\n",
    "\n",
    "tscv_deepar = TimeSeriesCrossValidation(\n",
    "    model=model_deepar, horizon=HORIZON, metrics=metrics, n_folds=3, n_jobs=1\n",
    ")"
   ]
  },
  {
   "cell_type": "code",
   "execution_count": 9,
   "id": "8db99bbb",
   "metadata": {},
   "outputs": [
    {
     "name": "stderr",
     "output_type": "stream",
     "text": [
      "[Parallel(n_jobs=1)]: Using backend SequentialBackend with 1 concurrent workers.\n",
      "GPU available: False, used: False\n",
      "TPU available: False, using: 0 TPU cores\n",
      "IPU available: False, using: 0 IPUs\n",
      "\n",
      "  | Name                   | Type                   | Params\n",
      "------------------------------------------------------------------\n",
      "0 | loss                   | NormalDistributionLoss | 0     \n",
      "1 | logging_metrics        | ModuleList             | 0     \n",
      "2 | embeddings             | MultiEmbedding         | 35    \n",
      "3 | rnn                    | LSTM                   | 2.2 K \n",
      "4 | distribution_projector | Linear                 | 22    \n",
      "------------------------------------------------------------------\n",
      "2.3 K     Trainable params\n",
      "0         Non-trainable params\n",
      "2.3 K     Total params\n",
      "0.009     Total estimated model params size (MB)\n"
     ]
    },
    {
     "data": {
      "application/vnd.jupyter.widget-view+json": {
       "model_id": "",
       "version_major": 2,
       "version_minor": 0
      },
      "text/plain": [
       "Validation sanity check: 0it [00:00, ?it/s]"
      ]
     },
     "metadata": {},
     "output_type": "display_data"
    },
    {
     "data": {
      "application/vnd.jupyter.widget-view+json": {
       "model_id": "3dd48e52d29e45bc94e7dc3e90a7641a",
       "version_major": 2,
       "version_minor": 0
      },
      "text/plain": [
       "Training: -1it [00:00, ?it/s]"
      ]
     },
     "metadata": {},
     "output_type": "display_data"
    },
    {
     "name": "stderr",
     "output_type": "stream",
     "text": [
      "[Parallel(n_jobs=1)]: Done   1 out of   1 | elapsed:  5.5min remaining:    0.0s\n",
      "GPU available: False, used: False\n",
      "TPU available: False, using: 0 TPU cores\n",
      "IPU available: False, using: 0 IPUs\n",
      "\n",
      "  | Name                   | Type                   | Params\n",
      "------------------------------------------------------------------\n",
      "0 | loss                   | NormalDistributionLoss | 0     \n",
      "1 | logging_metrics        | ModuleList             | 0     \n",
      "2 | embeddings             | MultiEmbedding         | 35    \n",
      "3 | rnn                    | LSTM                   | 2.2 K \n",
      "4 | distribution_projector | Linear                 | 22    \n",
      "------------------------------------------------------------------\n",
      "2.3 K     Trainable params\n",
      "0         Non-trainable params\n",
      "2.3 K     Total params\n",
      "0.009     Total estimated model params size (MB)\n"
     ]
    },
    {
     "data": {
      "application/vnd.jupyter.widget-view+json": {
       "model_id": "",
       "version_major": 2,
       "version_minor": 0
      },
      "text/plain": [
       "Validation sanity check: 0it [00:00, ?it/s]"
      ]
     },
     "metadata": {},
     "output_type": "display_data"
    },
    {
     "data": {
      "application/vnd.jupyter.widget-view+json": {
       "model_id": "ee9c70728782409393ec8d6e6509b350",
       "version_major": 2,
       "version_minor": 0
      },
      "text/plain": [
       "Training: -1it [00:00, ?it/s]"
      ]
     },
     "metadata": {},
     "output_type": "display_data"
    },
    {
     "name": "stderr",
     "output_type": "stream",
     "text": [
      "[Parallel(n_jobs=1)]: Done   2 out of   2 | elapsed: 15.2min remaining:    0.0s\n",
      "GPU available: False, used: False\n",
      "TPU available: False, using: 0 TPU cores\n",
      "IPU available: False, using: 0 IPUs\n",
      "\n",
      "  | Name                   | Type                   | Params\n",
      "------------------------------------------------------------------\n",
      "0 | loss                   | NormalDistributionLoss | 0     \n",
      "1 | logging_metrics        | ModuleList             | 0     \n",
      "2 | embeddings             | MultiEmbedding         | 35    \n",
      "3 | rnn                    | LSTM                   | 2.2 K \n",
      "4 | distribution_projector | Linear                 | 22    \n",
      "------------------------------------------------------------------\n",
      "2.3 K     Trainable params\n",
      "0         Non-trainable params\n",
      "2.3 K     Total params\n",
      "0.009     Total estimated model params size (MB)\n"
     ]
    },
    {
     "data": {
      "application/vnd.jupyter.widget-view+json": {
       "model_id": "",
       "version_major": 2,
       "version_minor": 0
      },
      "text/plain": [
       "Validation sanity check: 0it [00:00, ?it/s]"
      ]
     },
     "metadata": {},
     "output_type": "display_data"
    },
    {
     "data": {
      "application/vnd.jupyter.widget-view+json": {
       "model_id": "791148eeea0948aab456eed8bae22430",
       "version_major": 2,
       "version_minor": 0
      },
      "text/plain": [
       "Training: -1it [00:00, ?it/s]"
      ]
     },
     "metadata": {},
     "output_type": "display_data"
    },
    {
     "name": "stderr",
     "output_type": "stream",
     "text": [
      "[Parallel(n_jobs=1)]: Done   3 out of   3 | elapsed: 23.8min remaining:    0.0s\n",
      "[Parallel(n_jobs=1)]: Done   3 out of   3 | elapsed: 23.8min finished\n"
     ]
    }
   ],
   "source": [
    "results_deepar = tscv_deepar.backtest(ts, transforms=[transform_lag, transform_date, transform_deepar])"
   ]
  },
  {
   "cell_type": "markdown",
   "id": "74601763",
   "metadata": {},
   "source": [
    "Let's compare results across different segments."
   ]
  },
  {
   "cell_type": "code",
   "execution_count": 10,
   "id": "b9593244",
   "metadata": {},
   "outputs": [
    {
     "data": {
      "text/html": [
       "<div>\n",
       "<style scoped>\n",
       "    .dataframe tbody tr th:only-of-type {\n",
       "        vertical-align: middle;\n",
       "    }\n",
       "\n",
       "    .dataframe tbody tr th {\n",
       "        vertical-align: top;\n",
       "    }\n",
       "\n",
       "    .dataframe thead th {\n",
       "        text-align: right;\n",
       "    }\n",
       "</style>\n",
       "<table border=\"1\" class=\"dataframe\">\n",
       "  <thead>\n",
       "    <tr style=\"text-align: right;\">\n",
       "      <th></th>\n",
       "      <th>segment</th>\n",
       "      <th>SMAPE</th>\n",
       "      <th>MAPE</th>\n",
       "      <th>MAE</th>\n",
       "      <th>fold_number</th>\n",
       "    </tr>\n",
       "  </thead>\n",
       "  <tbody>\n",
       "    <tr>\n",
       "      <th>1</th>\n",
       "      <td>segment_a</td>\n",
       "      <td>7.297666</td>\n",
       "      <td>6.990605</td>\n",
       "      <td>42.534646</td>\n",
       "      <td>0</td>\n",
       "    </tr>\n",
       "    <tr>\n",
       "      <th>1</th>\n",
       "      <td>segment_a</td>\n",
       "      <td>2.032830</td>\n",
       "      <td>2.029135</td>\n",
       "      <td>11.394479</td>\n",
       "      <td>1</td>\n",
       "    </tr>\n",
       "    <tr>\n",
       "      <th>1</th>\n",
       "      <td>segment_a</td>\n",
       "      <td>11.920194</td>\n",
       "      <td>14.756049</td>\n",
       "      <td>63.301139</td>\n",
       "      <td>2</td>\n",
       "    </tr>\n",
       "    <tr>\n",
       "      <th>0</th>\n",
       "      <td>segment_b</td>\n",
       "      <td>4.701111</td>\n",
       "      <td>4.579034</td>\n",
       "      <td>12.243035</td>\n",
       "      <td>0</td>\n",
       "    </tr>\n",
       "    <tr>\n",
       "      <th>0</th>\n",
       "      <td>segment_b</td>\n",
       "      <td>4.665130</td>\n",
       "      <td>4.519913</td>\n",
       "      <td>11.765549</td>\n",
       "      <td>1</td>\n",
       "    </tr>\n",
       "    <tr>\n",
       "      <th>0</th>\n",
       "      <td>segment_b</td>\n",
       "      <td>11.805343</td>\n",
       "      <td>13.024886</td>\n",
       "      <td>30.018943</td>\n",
       "      <td>2</td>\n",
       "    </tr>\n",
       "    <tr>\n",
       "      <th>3</th>\n",
       "      <td>segment_c</td>\n",
       "      <td>7.380559</td>\n",
       "      <td>7.668771</td>\n",
       "      <td>14.756603</td>\n",
       "      <td>0</td>\n",
       "    </tr>\n",
       "    <tr>\n",
       "      <th>3</th>\n",
       "      <td>segment_c</td>\n",
       "      <td>26.759169</td>\n",
       "      <td>23.404316</td>\n",
       "      <td>62.398935</td>\n",
       "      <td>1</td>\n",
       "    </tr>\n",
       "    <tr>\n",
       "      <th>3</th>\n",
       "      <td>segment_c</td>\n",
       "      <td>28.254954</td>\n",
       "      <td>36.274926</td>\n",
       "      <td>55.372168</td>\n",
       "      <td>2</td>\n",
       "    </tr>\n",
       "    <tr>\n",
       "      <th>2</th>\n",
       "      <td>segment_d</td>\n",
       "      <td>10.650167</td>\n",
       "      <td>10.008656</td>\n",
       "      <td>101.383815</td>\n",
       "      <td>0</td>\n",
       "    </tr>\n",
       "    <tr>\n",
       "      <th>2</th>\n",
       "      <td>segment_d</td>\n",
       "      <td>7.230986</td>\n",
       "      <td>6.870505</td>\n",
       "      <td>61.602670</td>\n",
       "      <td>1</td>\n",
       "    </tr>\n",
       "    <tr>\n",
       "      <th>2</th>\n",
       "      <td>segment_d</td>\n",
       "      <td>9.987522</td>\n",
       "      <td>11.418747</td>\n",
       "      <td>91.824942</td>\n",
       "      <td>2</td>\n",
       "    </tr>\n",
       "  </tbody>\n",
       "</table>\n",
       "</div>"
      ],
      "text/plain": [
       "     segment      SMAPE       MAPE         MAE  fold_number\n",
       "1  segment_a   7.297666   6.990605   42.534646            0\n",
       "1  segment_a   2.032830   2.029135   11.394479            1\n",
       "1  segment_a  11.920194  14.756049   63.301139            2\n",
       "0  segment_b   4.701111   4.579034   12.243035            0\n",
       "0  segment_b   4.665130   4.519913   11.765549            1\n",
       "0  segment_b  11.805343  13.024886   30.018943            2\n",
       "3  segment_c   7.380559   7.668771   14.756603            0\n",
       "3  segment_c  26.759169  23.404316   62.398935            1\n",
       "3  segment_c  28.254954  36.274926   55.372168            2\n",
       "2  segment_d  10.650167  10.008656  101.383815            0\n",
       "2  segment_d   7.230986   6.870505   61.602670            1\n",
       "2  segment_d   9.987522  11.418747   91.824942            2"
      ]
     },
     "execution_count": 10,
     "metadata": {},
     "output_type": "execute_result"
    }
   ],
   "source": [
    "results_deepar[0]"
   ]
  },
  {
   "cell_type": "markdown",
   "id": "cedec84a",
   "metadata": {},
   "source": [
    "To summarize it we will take mean value of SMAPE metric because it is scale tolerant."
   ]
  },
  {
   "cell_type": "code",
   "execution_count": 11,
   "id": "4d116bf5",
   "metadata": {},
   "outputs": [
    {
     "name": "stdout",
     "output_type": "stream",
     "text": [
      "Average SMAPE for DeepAR: 11.057\n"
     ]
    }
   ],
   "source": [
    "score = results_deepar[0][\"SMAPE\"].mean()\n",
    "print(f\"Average SMAPE for DeepAR: {score:.3f}\")"
   ]
  },
  {
   "cell_type": "markdown",
   "id": "b2723da5",
   "metadata": {},
   "source": [
    "Visualize results."
   ]
  },
  {
   "cell_type": "code",
   "execution_count": 12,
   "id": "18f26270",
   "metadata": {},
   "outputs": [
    {
     "data": {
      "image/png": "[encoded data removed]",
      "text/plain": [
       "<Figure size 1440x720 with 4 Axes>"
      ]
     },
     "metadata": {
      "needs_background": "light"
     },
     "output_type": "display_data"
    }
   ],
   "source": [
    "plot_backtest(results_deepar[1], ts, history_len=20)"
   ]
  },
  {
   "cell_type": "markdown",
   "id": "a25e4cf9",
   "metadata": {},
   "source": [
    "### 3.2 TFT <a class=\"anchor\" id=\"section_3_2\"></a>"
   ]
  },
  {
   "cell_type": "markdown",
   "id": "d6ccd1c0",
   "metadata": {},
   "source": [
    "Let's move to the next model."
   ]
  },
  {
   "cell_type": "code",
   "execution_count": 13,
   "id": "7cf6c22c",
   "metadata": {},
   "outputs": [],
   "source": [
    "torch.manual_seed(42)\n",
    "random.seed(42)\n",
    "np.random.seed(42)"
   ]
  },
  {
   "cell_type": "code",
   "execution_count": 14,
   "id": "73035657",
   "metadata": {},
   "outputs": [],
   "source": [
    "transform_date = DateFlagsTransform(day_number_in_week=True, day_number_in_month=False, out_column=\"regressor_dateflag\")\n",
    "num_lags = 10\n",
    "transform_lag = LagTransform(in_column=\"target\", lags=[HORIZON+i for i in range(num_lags)], out_column=\"regressor_target_lag\")\n",
    "lag_columns = [f\"regressor_target_lag_{HORIZON+i}\" for i in range(num_lags)]\n",
    "\n",
    "transform_tft = PytorchForecastingTransform(\n",
    "    max_encoder_length=HORIZON,\n",
    "    max_prediction_length=HORIZON,\n",
    "    time_varying_known_reals=[\"time_idx\"],\n",
    "    time_varying_unknown_reals=[\"target\"],\n",
    "    time_varying_known_categoricals=[\"regressor_dateflag_day_number_in_week\"],\n",
    "    static_categoricals=[\"segment\"],\n",
    "    target_normalizer=GroupNormalizer(groups=[\"segment\"]),\n",
    ")"
   ]
  },
  {
   "cell_type": "code",
   "execution_count": 15,
   "id": "45f08ec8",
   "metadata": {},
   "outputs": [],
   "source": [
    "from etna.models.nn import TFTModel\n",
    "\n",
    "model_deepar = TFTModel(max_epochs=200, learning_rate=[0.01], gpus=0, batch_size=64)\n",
    "\n",
    "tscv_tft = TimeSeriesCrossValidation(\n",
    "    model=model_deepar, horizon=HORIZON, metrics=metrics, n_folds=3, n_jobs=1\n",
    ")"
   ]
  },
  {
   "cell_type": "code",
   "execution_count": null,
   "id": "215933ea",
   "metadata": {
    "scrolled": false
   },
   "outputs": [
    {
     "name": "stderr",
     "output_type": "stream",
     "text": [
      "[Parallel(n_jobs=1)]: Using backend SequentialBackend with 1 concurrent workers.\n",
      "GPU available: False, used: False\n",
      "TPU available: False, using: 0 TPU cores\n",
      "IPU available: False, using: 0 IPUs\n",
      "\n",
      "   | Name                               | Type                            | Params\n",
      "----------------------------------------------------------------------------------------\n",
      "0  | loss                               | QuantileLoss                    | 0     \n",
      "1  | logging_metrics                    | ModuleList                      | 0     \n",
      "2  | input_embeddings                   | MultiEmbedding                  | 47    \n",
      "3  | prescalers                         | ModuleDict                      | 96    \n",
      "4  | static_variable_selection          | VariableSelectionNetwork        | 1.8 K \n",
      "5  | encoder_variable_selection         | VariableSelectionNetwork        | 1.9 K \n",
      "6  | decoder_variable_selection         | VariableSelectionNetwork        | 1.3 K \n",
      "7  | static_context_variable_selection  | GatedResidualNetwork            | 1.1 K \n",
      "8  | static_context_initial_hidden_lstm | GatedResidualNetwork            | 1.1 K \n",
      "9  | static_context_initial_cell_lstm   | GatedResidualNetwork            | 1.1 K \n",
      "10 | static_context_enrichment          | GatedResidualNetwork            | 1.1 K \n",
      "11 | lstm_encoder                       | LSTM                            | 2.2 K \n",
      "12 | lstm_decoder                       | LSTM                            | 2.2 K \n",
      "13 | post_lstm_gate_encoder             | GatedLinearUnit                 | 544   \n",
      "14 | post_lstm_add_norm_encoder         | AddNorm                         | 32    \n",
      "15 | static_enrichment                  | GatedResidualNetwork            | 1.4 K \n",
      "16 | multihead_attn                     | InterpretableMultiHeadAttention | 676   \n",
      "17 | post_attn_gate_norm                | GateAddNorm                     | 576   \n",
      "18 | pos_wise_ff                        | GatedResidualNetwork            | 1.1 K \n",
      "19 | pre_output_gate_norm               | GateAddNorm                     | 576   \n",
      "20 | output_layer                       | Linear                          | 119   \n",
      "----------------------------------------------------------------------------------------\n",
      "18.9 K    Trainable params\n",
      "0         Non-trainable params\n",
      "18.9 K    Total params\n",
      "0.075     Total estimated model params size (MB)\n"
     ]
    },
    {
     "data": {
      "application/vnd.jupyter.widget-view+json": {
       "model_id": "",
       "version_major": 2,
       "version_minor": 0
      },
      "text/plain": [
       "Validation sanity check: 0it [00:00, ?it/s]"
      ]
     },
     "metadata": {},
     "output_type": "display_data"
    },
    {
     "data": {
      "application/vnd.jupyter.widget-view+json": {
       "model_id": "540c4ba5dbde4e1ca1359bc3ef81a959",
       "version_major": 2,
       "version_minor": 0
      },
      "text/plain": [
       "Training: -1it [00:00, ?it/s]"
      ]
     },
     "metadata": {},
     "output_type": "display_data"
    }
   ],
   "source": [
    "results_tft = tscv_tft.backtest(ts, transforms=[transform_lag, transform_date, transform_tft])"
   ]
  },
  {
   "cell_type": "code",
   "execution_count": null,
   "id": "fdf818ef",
   "metadata": {},
   "outputs": [],
   "source": [
    "results_tft[0]"
   ]
  },
  {
   "cell_type": "code",
   "execution_count": null,
   "id": "dfbe4cec",
   "metadata": {},
   "outputs": [],
   "source": [
    "score = results_tft[0][\"SMAPE\"].mean()\n",
    "print(f\"Average SMAPE for TFT: {score:.3f}\")"
   ]
  },
  {
   "cell_type": "code",
   "execution_count": null,
   "id": "5841901a",
   "metadata": {},
   "outputs": [],
   "source": [
    "plot_backtest(results_tft[1], ts, history_len=20)"
   ]
  },
  {
   "cell_type": "markdown",
   "id": "6c247350",
   "metadata": {},
   "source": [
    "### 3.3 Simple model <a class=\"anchor\" id=\"section_3_3\"></a>"
   ]
  },
  {
   "cell_type": "markdown",
   "id": "8baee870",
   "metadata": {},
   "source": [
    "For comparison let's train a much more simplier model."
   ]
  },
  {
   "cell_type": "code",
   "execution_count": null,
   "id": "d67bb61e",
   "metadata": {},
   "outputs": [],
   "source": [
    "model_sma = SeasonalMovingAverageModel(window=5, seasonality=7)\n",
    "\n",
    "tscv_sma = TimeSeriesCrossValidation(\n",
    "    model=model_sma, horizon=HORIZON, metrics=metrics, n_folds=3, n_jobs=1\n",
    ")"
   ]
  },
  {
   "cell_type": "code",
   "execution_count": null,
   "id": "fe35a00e",
   "metadata": {},
   "outputs": [],
   "source": [
    "linear_trend_transform = LinearTrendTransform(in_column='target')\n",
    "results_sma = tscv_sma.backtest(ts, transforms=[linear_trend_transform])"
   ]
  },
  {
   "cell_type": "code",
   "execution_count": null,
   "id": "ec046b48",
   "metadata": {},
   "outputs": [],
   "source": [
    "results_sma[0]"
   ]
  },
  {
   "cell_type": "code",
   "execution_count": null,
   "id": "e22110f4",
   "metadata": {},
   "outputs": [],
   "source": [
    "score = results_sma[0][\"SMAPE\"].mean()\n",
    "print(f\"Average SMAPE for Seasonal MA: {score:.3f}\")"
   ]
  },
  {
   "cell_type": "code",
   "execution_count": null,
   "id": "a49bea74",
   "metadata": {},
   "outputs": [],
   "source": [
    "plot_backtest(results_sma[1], ts, history_len=20)"
   ]
  },
  {
   "cell_type": "markdown",
   "id": "8889b4c6",
   "metadata": {},
   "source": [
    "As we can see, neural networks are a bit better in this particular case."
   ]
  }
 ],
 "metadata": {
  "kernelspec": {
   "display_name": "Python 3",
   "language": "python",
   "name": "python3"
  },
  "language_info": {
   "codemirror_mode": {
    "name": "ipython",
    "version": 3
   },
   "file_extension": ".py",
   "mimetype": "text/x-python",
   "name": "python",
   "nbconvert_exporter": "python",
   "pygments_lexer": "ipython3",
   "version": "3.8.12"
  }
 },
 "nbformat": 4,
 "nbformat_minor": 5
}
